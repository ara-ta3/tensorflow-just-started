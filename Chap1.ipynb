{
 "cells": [
  {
   "cell_type": "markdown",
   "metadata": {},
   "source": [
    "# 第一章 TensorFlow の基礎"
   ]
  },
  {
   "cell_type": "code",
   "execution_count": 8,
   "metadata": {
    "collapsed": false
   },
   "outputs": [
    {
     "name": "stdout",
     "output_type": "stream",
     "text": [
      "5\n"
     ]
    }
   ],
   "source": [
    "import tensorflow as tf\n",
    "\n",
    "c1 = tf.constant(2)\n",
    "c2 = tf.constant(3)\n",
    "add_op = tf.add(c1, c2)\n",
    "with tf.Session() as sess:\n",
    "    result = sess.run(add_op)\n",
    "    print(result)"
   ]
  },
  {
   "cell_type": "code",
   "execution_count": 9,
   "metadata": {
    "collapsed": false
   },
   "outputs": [
    {
     "name": "stdout",
     "output_type": "stream",
     "text": [
      "15\n",
      "5\n"
     ]
    }
   ],
   "source": [
    "import tensorflow as tf\n",
    "\n",
    "c1 = tf.constant(2)\n",
    "c2 = tf.constant(3)\n",
    "add_op = tf.add(c1, c2)\n",
    "mul_op = tf.mul(add_op, c2)\n",
    "with tf.Session() as sess:\n",
    "    r1, r2 = sess.run([mul_op, add_op])\n",
    "    print(r1)\n",
    "    print(r2)"
   ]
  },
  {
   "cell_type": "code",
   "execution_count": 13,
   "metadata": {
    "collapsed": false
   },
   "outputs": [
    {
     "name": "stdout",
     "output_type": "stream",
     "text": [
      "WARNING:tensorflow:From <ipython-input-13-98548475f083>:9 in <module>.: initialize_all_variables (from tensorflow.python.ops.variables) is deprecated and will be removed after 2017-03-02.\n",
      "Instructions for updating:\n",
      "Use `tf.global_variables_initializer` instead.\n",
      "[9]\n",
      "[36, 36]\n",
      "[81, 81]\n"
     ]
    }
   ],
   "source": [
    "var1 = tf.Variable(0)\n",
    "c2 = tf.constant(3)\n",
    "\n",
    "add_op = tf.add(var1, c2)\n",
    "update_var1 = tf.assign(var1, add_op)\n",
    "mul_op = tf.mul(add_op, update_var1)\n",
    "\n",
    "with tf.Session() as sess:\n",
    "    sess.run(tf.initialize_all_variables())\n",
    "    print(sess.run([mul_op]))\n",
    "    print(sess.run([mul_op, mul_op]))\n",
    "    print(sess.run([mul_op, mul_op]))\n",
    "    "
   ]
  },
  {
   "cell_type": "code",
   "execution_count": 18,
   "metadata": {
    "collapsed": false
   },
   "outputs": [
    {
     "name": "stdout",
     "output_type": "stream",
     "text": [
      "25\n"
     ]
    }
   ],
   "source": [
    "var1 = tf.Variable(0)\n",
    "holder2 = tf.placeholder(tf.int32)\n",
    "add_op = tf.add(var1, holder2)\n",
    "update_var1 = tf.assign(var1, add_op)\n",
    "mul_op = tf.mul(add_op, update_var1)\n",
    "\n",
    "with tf.Session() as sess:\n",
    "    sess.run(tf.global_variables_initializer())\n",
    "    result = sess.run(mul_op, feed_dict = {\n",
    "            holder2: 5\n",
    "        })\n",
    "    print(result)\n",
    "\n"
   ]
  },
  {
   "cell_type": "markdown",
   "metadata": {},
   "source": [
    "ここでのテンソル: n次元の多次元配列  \n",
    "https://www.tensorflow.org/resources/dims_types"
   ]
  },
  {
   "cell_type": "code",
   "execution_count": 23,
   "metadata": {
    "collapsed": false
   },
   "outputs": [
    {
     "name": "stdout",
     "output_type": "stream",
     "text": [
      "15\n",
      "5\n"
     ]
    }
   ],
   "source": [
    "import tensorflow as tf\n",
    "\n",
    "c1 = tf.constant(2)\n",
    "c2 = tf.constant(3)\n",
    "add_op = tf.add(c1, c2)\n",
    "mul_op = tf.mul(add_op, c2)\n",
    "with tf.Session() as sess:\n",
    "    r1, r2 = sess.run([mul_op, add_op])\n",
    "    print(r1)\n",
    "    print(r2)\n",
    "    \n",
    "    # tf.train.SummaryWriter('./', sess.graph)\n",
    "    tf.summary.FileWriter('./', sess.graph)"
   ]
  },
  {
   "cell_type": "code",
   "execution_count": null,
   "metadata": {
    "collapsed": true
   },
   "outputs": [],
   "source": []
  }
 ],
 "metadata": {
  "kernelspec": {
   "display_name": "Python 3",
   "language": "python",
   "name": "python3"
  },
  "language_info": {
   "codemirror_mode": {
    "name": "ipython",
    "version": 3
   },
   "file_extension": ".py",
   "mimetype": "text/x-python",
   "name": "python",
   "nbconvert_exporter": "python",
   "pygments_lexer": "ipython3",
   "version": "3.4.3"
  }
 },
 "nbformat": 4,
 "nbformat_minor": 0
}
